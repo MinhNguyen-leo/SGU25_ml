{
 "cells": [
  {
   "cell_type": "markdown",
   "id": "4c73e7fa",
   "metadata": {},
   "source": [
    "ex2_scientific1"
   ]
  },
  {
   "cell_type": "markdown",
   "id": "ab925d63",
   "metadata": {},
   "source": [
    "Nội dung bài\n",
    "\n",
    "Hiển thị ngẫu nhiên $N=50$ hình tròn:\n",
    "+ Tâm $c_i = (x_i,y_i)$ ngẫu nhiên với $x_i, y_i \\in \\left[0, 1 \\right]$\n",
    "+ Màu sắc $color_i$ ngẫu nhiên với $color_i \\in \\left[0, 1 \\right]$\n",
    "+ Diện tích $area_i = \\pi * r_i^2$ với sinh ngẫu nhiên $r_i \\in \\left[0, 1 \\right]$"
   ]
  }
 ],
 "metadata": {
  "language_info": {
   "name": "python"
  }
 },
 "nbformat": 4,
 "nbformat_minor": 5
}
